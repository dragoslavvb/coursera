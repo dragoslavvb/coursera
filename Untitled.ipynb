{
 "cells": [
  {
   "cell_type": "markdown",
   "id": "ae76cd69-9a14-4e51-9b27-08b4986ea58f",
   "metadata": {},
   "source": [
    "# My Jupyter Notebook on IBM Watson Studio"
   ]
  },
  {
   "cell_type": "markdown",
   "id": "b274e034-cc72-46fd-9ee0-38d9e348bae3",
   "metadata": {},
   "source": [
    "**Dragoslav Veljkovic**\n",
    "\n",
    "IT Manager"
   ]
  },
  {
   "cell_type": "markdown",
   "id": "6713f10a-55b1-4cdc-bbe8-6c16b6d89b87",
   "metadata": {},
   "source": [
    "*I am interested in data science because I don't have anything better to do now. I hope this helps.*"
   ]
  },
  {
   "cell_type": "markdown",
   "id": "312bb166-5420-4bde-9be0-aeccb97a2851",
   "metadata": {},
   "source": [
    "### My code is suppose to do nothing at all ###"
   ]
  },
  {
   "cell_type": "code",
   "execution_count": 8,
   "id": "ecb2e17e-78a0-4c88-a211-9abc77f4f520",
   "metadata": {},
   "outputs": [
    {
     "name": "stdout",
     "output_type": "stream",
     "text": [
      "Confirm that 1 + 1 = 2\n"
     ]
    }
   ],
   "source": [
    "print(\"Confirm that 1 + 1 = \" + str(1 + 1))"
   ]
  },
  {
   "cell_type": "markdown",
   "id": "5c63d48f-999c-44f6-b96f-eaee28285922",
   "metadata": {},
   "source": [
    "***"
   ]
  },
  {
   "cell_type": "markdown",
   "id": "bc154ede-c9b0-4ebe-a86b-8bc1473a251d",
   "metadata": {},
   "source": [
    "- One\n",
    "- Two\n",
    "- Three"
   ]
  },
  {
   "cell_type": "markdown",
   "id": "4d19e3de-a6f9-40a8-83c2-9fd01b4c4b4f",
   "metadata": {},
   "source": [
    "1. Four\n",
    "2. Five\n",
    "3. Six"
   ]
  },
  {
   "cell_type": "markdown",
   "id": "c494818d-7dd9-4b55-aa27-ee5f87574dd4",
   "metadata": {},
   "source": [
    "<img src=\"https://1fid.com/wp-content/uploads/2022/06/Twitter-profile-picture-13-520x519.jpg\" alt=\"Funny pic\"/>"
   ]
  },
  {
   "cell_type": "code",
   "execution_count": null,
   "id": "e97cb242-3a47-46b8-ab9f-ba37a77a61eb",
   "metadata": {},
   "outputs": [],
   "source": []
  }
 ],
 "metadata": {
  "kernelspec": {
   "display_name": "Python 3 (ipykernel)",
   "language": "python",
   "name": "python3"
  },
  "language_info": {
   "codemirror_mode": {
    "name": "ipython",
    "version": 3
   },
   "file_extension": ".py",
   "mimetype": "text/x-python",
   "name": "python",
   "nbconvert_exporter": "python",
   "pygments_lexer": "ipython3",
   "version": "3.11.0"
  }
 },
 "nbformat": 4,
 "nbformat_minor": 5
}
